{
 "cells": [
  {
   "cell_type": "markdown",
   "id": "a5be20b0",
   "metadata": {},
   "source": [
    "## 6_Sprint_6T01\n",
    "### Tasca mètodes de mostreig\n",
    "### Eloi Canals v1"
   ]
  },
  {
   "cell_type": "code",
   "execution_count": 43,
   "id": "d531e6c3",
   "metadata": {},
   "outputs": [],
   "source": [
    "# imports\n",
    "import pandas as pd\n",
    "import numpy as np"
   ]
  },
  {
   "cell_type": "code",
   "execution_count": 44,
   "id": "8e6b6527",
   "metadata": {},
   "outputs": [
    {
     "data": {
      "text/html": [
       "<div>\n",
       "<style scoped>\n",
       "    .dataframe tbody tr th:only-of-type {\n",
       "        vertical-align: middle;\n",
       "    }\n",
       "\n",
       "    .dataframe tbody tr th {\n",
       "        vertical-align: top;\n",
       "    }\n",
       "\n",
       "    .dataframe thead th {\n",
       "        text-align: right;\n",
       "    }\n",
       "</style>\n",
       "<table border=\"1\" class=\"dataframe\">\n",
       "  <thead>\n",
       "    <tr style=\"text-align: right;\">\n",
       "      <th></th>\n",
       "      <th>player</th>\n",
       "      <th>team</th>\n",
       "      <th>position</th>\n",
       "      <th>salary</th>\n",
       "    </tr>\n",
       "  </thead>\n",
       "  <tbody>\n",
       "    <tr>\n",
       "      <th>0</th>\n",
       "      <td>Brandon Webb</td>\n",
       "      <td>Arizona Diamondbacks</td>\n",
       "      <td>Pitcher</td>\n",
       "      <td>8500.0</td>\n",
       "    </tr>\n",
       "    <tr>\n",
       "      <th>1</th>\n",
       "      <td>Danny Haren</td>\n",
       "      <td>Arizona Diamondbacks</td>\n",
       "      <td>Pitcher</td>\n",
       "      <td>8250.0</td>\n",
       "    </tr>\n",
       "    <tr>\n",
       "      <th>2</th>\n",
       "      <td>Chris Snyder</td>\n",
       "      <td>Arizona Diamondbacks</td>\n",
       "      <td>Catcher</td>\n",
       "      <td>5250.0</td>\n",
       "    </tr>\n",
       "    <tr>\n",
       "      <th>3</th>\n",
       "      <td>Edwin Jackson</td>\n",
       "      <td>Arizona Diamondbacks</td>\n",
       "      <td>Pitcher</td>\n",
       "      <td>4600.0</td>\n",
       "    </tr>\n",
       "    <tr>\n",
       "      <th>4</th>\n",
       "      <td>Adam LaRoche</td>\n",
       "      <td>Arizona Diamondbacks</td>\n",
       "      <td>First Baseman</td>\n",
       "      <td>4500.0</td>\n",
       "    </tr>\n",
       "  </tbody>\n",
       "</table>\n",
       "</div>"
      ],
      "text/plain": [
       "          player                  team       position  salary\n",
       "0   Brandon Webb  Arizona Diamondbacks        Pitcher  8500.0\n",
       "1    Danny Haren  Arizona Diamondbacks        Pitcher  8250.0\n",
       "2   Chris Snyder  Arizona Diamondbacks        Catcher  5250.0\n",
       "3  Edwin Jackson  Arizona Diamondbacks        Pitcher  4600.0\n",
       "4   Adam LaRoche  Arizona Diamondbacks  First Baseman  4500.0"
      ]
     },
     "execution_count": 44,
     "metadata": {},
     "output_type": "execute_result"
    }
   ],
   "source": [
    "# proves amb MLB\n",
    "mlb = pd.read_csv('mlb.txt', sep = \"\t\")\n",
    "mlb.head()"
   ]
  },
  {
   "cell_type": "code",
   "execution_count": 45,
   "id": "805535e7",
   "metadata": {},
   "outputs": [
    {
     "data": {
      "text/html": [
       "<div>\n",
       "<style scoped>\n",
       "    .dataframe tbody tr th:only-of-type {\n",
       "        vertical-align: middle;\n",
       "    }\n",
       "\n",
       "    .dataframe tbody tr th {\n",
       "        vertical-align: top;\n",
       "    }\n",
       "\n",
       "    .dataframe thead th {\n",
       "        text-align: right;\n",
       "    }\n",
       "</style>\n",
       "<table border=\"1\" class=\"dataframe\">\n",
       "  <thead>\n",
       "    <tr style=\"text-align: right;\">\n",
       "      <th></th>\n",
       "      <th>salary</th>\n",
       "    </tr>\n",
       "  </thead>\n",
       "  <tbody>\n",
       "    <tr>\n",
       "      <th>count</th>\n",
       "      <td>828.000000</td>\n",
       "    </tr>\n",
       "    <tr>\n",
       "      <th>mean</th>\n",
       "      <td>3281.828339</td>\n",
       "    </tr>\n",
       "    <tr>\n",
       "      <th>std</th>\n",
       "      <td>4465.448980</td>\n",
       "    </tr>\n",
       "    <tr>\n",
       "      <th>min</th>\n",
       "      <td>400.000000</td>\n",
       "    </tr>\n",
       "    <tr>\n",
       "      <th>25%</th>\n",
       "      <td>418.315000</td>\n",
       "    </tr>\n",
       "    <tr>\n",
       "      <th>50%</th>\n",
       "      <td>1093.750000</td>\n",
       "    </tr>\n",
       "    <tr>\n",
       "      <th>75%</th>\n",
       "      <td>4250.000000</td>\n",
       "    </tr>\n",
       "    <tr>\n",
       "      <th>max</th>\n",
       "      <td>33000.000000</td>\n",
       "    </tr>\n",
       "  </tbody>\n",
       "</table>\n",
       "</div>"
      ],
      "text/plain": [
       "             salary\n",
       "count    828.000000\n",
       "mean    3281.828339\n",
       "std     4465.448980\n",
       "min      400.000000\n",
       "25%      418.315000\n",
       "50%     1093.750000\n",
       "75%     4250.000000\n",
       "max    33000.000000"
      ]
     },
     "execution_count": 45,
     "metadata": {},
     "output_type": "execute_result"
    }
   ],
   "source": [
    "mlb.describe()"
   ]
  },
  {
   "cell_type": "code",
   "execution_count": 46,
   "id": "cbfd79be",
   "metadata": {},
   "outputs": [
    {
     "data": {
      "text/plain": [
       "165"
      ]
     },
     "execution_count": 46,
     "metadata": {},
     "output_type": "execute_result"
    }
   ],
   "source": [
    "# Farem un sampling del 20%\n",
    "total = int(len(mlb))\n",
    "mostra_perc = int(20 * total / 100)\n",
    "mostra_perc "
   ]
  },
  {
   "cell_type": "markdown",
   "id": "55189f57",
   "metadata": {},
   "source": [
    "#### Exercici 1. Mostra aleatoria simple"
   ]
  },
  {
   "cell_type": "code",
   "execution_count": 47,
   "id": "13e3e84d",
   "metadata": {},
   "outputs": [
    {
     "data": {
      "text/html": [
       "<div>\n",
       "<style scoped>\n",
       "    .dataframe tbody tr th:only-of-type {\n",
       "        vertical-align: middle;\n",
       "    }\n",
       "\n",
       "    .dataframe tbody tr th {\n",
       "        vertical-align: top;\n",
       "    }\n",
       "\n",
       "    .dataframe thead th {\n",
       "        text-align: right;\n",
       "    }\n",
       "</style>\n",
       "<table border=\"1\" class=\"dataframe\">\n",
       "  <thead>\n",
       "    <tr style=\"text-align: right;\">\n",
       "      <th></th>\n",
       "      <th>player</th>\n",
       "      <th>team</th>\n",
       "      <th>position</th>\n",
       "      <th>salary</th>\n",
       "    </tr>\n",
       "  </thead>\n",
       "  <tbody>\n",
       "    <tr>\n",
       "      <th>1</th>\n",
       "      <td>Danny Haren</td>\n",
       "      <td>Arizona Diamondbacks</td>\n",
       "      <td>Pitcher</td>\n",
       "      <td>8250.0</td>\n",
       "    </tr>\n",
       "    <tr>\n",
       "      <th>8</th>\n",
       "      <td>Conor Jackson</td>\n",
       "      <td>Arizona Diamondbacks</td>\n",
       "      <td>First Baseman</td>\n",
       "      <td>3100.0</td>\n",
       "    </tr>\n",
       "    <tr>\n",
       "      <th>35</th>\n",
       "      <td>Matt Diaz</td>\n",
       "      <td>Atlanta Braves</td>\n",
       "      <td>Outfielder</td>\n",
       "      <td>2550.0</td>\n",
       "    </tr>\n",
       "    <tr>\n",
       "      <th>41</th>\n",
       "      <td>Jair Jurrjens</td>\n",
       "      <td>Atlanta Braves</td>\n",
       "      <td>Pitcher</td>\n",
       "      <td>480.0</td>\n",
       "    </tr>\n",
       "    <tr>\n",
       "      <th>42</th>\n",
       "      <td>Eric O'Flaherty</td>\n",
       "      <td>Atlanta Braves</td>\n",
       "      <td>Pitcher</td>\n",
       "      <td>440.0</td>\n",
       "    </tr>\n",
       "    <tr>\n",
       "      <th>...</th>\n",
       "      <td>...</td>\n",
       "      <td>...</td>\n",
       "      <td>...</td>\n",
       "      <td>...</td>\n",
       "    </tr>\n",
       "    <tr>\n",
       "      <th>795</th>\n",
       "      <td>Randy Ruiz</td>\n",
       "      <td>Toronto Blue Jays</td>\n",
       "      <td>First Baseman</td>\n",
       "      <td>404.3</td>\n",
       "    </tr>\n",
       "    <tr>\n",
       "      <th>802</th>\n",
       "      <td>Josh Willingham</td>\n",
       "      <td>Washington Nationals</td>\n",
       "      <td>Outfielder</td>\n",
       "      <td>4600.0</td>\n",
       "    </tr>\n",
       "    <tr>\n",
       "      <th>805</th>\n",
       "      <td>Chien-Ming Wang</td>\n",
       "      <td>Washington Nationals</td>\n",
       "      <td>Pitcher</td>\n",
       "      <td>2000.0</td>\n",
       "    </tr>\n",
       "    <tr>\n",
       "      <th>814</th>\n",
       "      <td>Chris Coste</td>\n",
       "      <td>Washington Nationals</td>\n",
       "      <td>Catcher</td>\n",
       "      <td>650.0</td>\n",
       "    </tr>\n",
       "    <tr>\n",
       "      <th>824</th>\n",
       "      <td>Ian Desmond</td>\n",
       "      <td>Washington Nationals</td>\n",
       "      <td>Shortstop</td>\n",
       "      <td>400.0</td>\n",
       "    </tr>\n",
       "  </tbody>\n",
       "</table>\n",
       "<p>165 rows × 4 columns</p>\n",
       "</div>"
      ],
      "text/plain": [
       "              player                  team       position  salary\n",
       "1        Danny Haren  Arizona Diamondbacks        Pitcher  8250.0\n",
       "8      Conor Jackson  Arizona Diamondbacks  First Baseman  3100.0\n",
       "35         Matt Diaz        Atlanta Braves     Outfielder  2550.0\n",
       "41     Jair Jurrjens        Atlanta Braves        Pitcher   480.0\n",
       "42   Eric O'Flaherty        Atlanta Braves        Pitcher   440.0\n",
       "..               ...                   ...            ...     ...\n",
       "795       Randy Ruiz     Toronto Blue Jays  First Baseman   404.3\n",
       "802  Josh Willingham  Washington Nationals     Outfielder  4600.0\n",
       "805  Chien-Ming Wang  Washington Nationals        Pitcher  2000.0\n",
       "814      Chris Coste  Washington Nationals        Catcher   650.0\n",
       "824      Ian Desmond  Washington Nationals      Shortstop   400.0\n",
       "\n",
       "[165 rows x 4 columns]"
      ]
     },
     "execution_count": 47,
     "metadata": {},
     "output_type": "execute_result"
    }
   ],
   "source": [
    "mostra_simple_df = mlb.sample(n = mostra_perc).sort_index(ascending = True)\n",
    "mostra_simple_df"
   ]
  },
  {
   "cell_type": "markdown",
   "id": "e2f9280f",
   "metadata": {},
   "source": [
    "#### Exercici 1b. Mostra sistemàtica"
   ]
  },
  {
   "cell_type": "code",
   "execution_count": 48,
   "id": "12a4d79f",
   "metadata": {},
   "outputs": [
    {
     "name": "stdout",
     "output_type": "stream",
     "text": [
      "DISCARTED. Començant desde 578, fent 165 samplings en intervals de 19, se superaria el total de casos (828) del dataset.\n",
      "DISCARTED. Començant desde 636, fent 165 samplings en intervals de 25, se superaria el total de casos (828) del dataset.\n",
      "DISCARTED. Començant desde 284, fent 165 samplings en intervals de 27, se superaria el total de casos (828) del dataset.\n",
      "DISCARTED. Començant desde 684, fent 165 samplings en intervals de 24, se superaria el total de casos (828) del dataset.\n",
      "DISCARTED. Començant desde 172, fent 165 samplings en intervals de 31, se superaria el total de casos (828) del dataset.\n",
      "DISCARTED. Començant desde 336, fent 165 samplings en intervals de 3, se superaria el total de casos (828) del dataset.\n",
      "DISCARTED. Començant desde 494, fent 165 samplings en intervals de 17, se superaria el total de casos (828) del dataset.\n",
      "DISCARTED. Començant desde 731, fent 165 samplings en intervals de 6, se superaria el total de casos (828) del dataset.\n",
      "DISCARTED. Començant desde 506, fent 165 samplings en intervals de 5, se superaria el total de casos (828) del dataset.\n",
      "DISCARTED. Començant desde 116, fent 165 samplings en intervals de 30, se superaria el total de casos (828) del dataset.\n",
      "DISCARTED. Començant desde 416, fent 165 samplings en intervals de 10, se superaria el total de casos (828) del dataset.\n",
      "DISCARTED. Començant desde 565, fent 165 samplings en intervals de 2, se superaria el total de casos (828) del dataset.\n",
      "DISCARTED. Començant desde 779, fent 165 samplings en intervals de 16, se superaria el total de casos (828) del dataset.\n",
      "DISCARTED. Començant desde 182, fent 165 samplings en intervals de 22, se superaria el total de casos (828) del dataset.\n",
      "DISCARTED. Començant desde 489, fent 165 samplings en intervals de 9, se superaria el total de casos (828) del dataset.\n",
      "Els numeros aleatoris correctes son: començar desde 112, en intervals de 2.\n"
     ]
    }
   ],
   "source": [
    "# Definim aleatoriament l'inici i el interval. \n",
    "\n",
    "\n",
    "def inici_interval(total, num_mostres):\n",
    "    # Funció recursiva per obtenir inici i interval que estigui inclòs en el total de casos del dataset\n",
    "    inici = np.random.randint(1, total)\n",
    "    interval = np.random.randint(2, total/20)\n",
    "    mytry = inici + (interval * num_mostres)\n",
    "    if  mytry > total:\n",
    "        print(f\"DISCARTED. Començant desde {inici}, fent {num_mostres} samplings en intervals de {interval}, se superaria el total de casos ({total}) del dataset.\")\n",
    "        return inici_interval(total,num_mostres)\n",
    "    else:\n",
    "        return inici,interval\n",
    "\n",
    "inici, interval = inici_interval(total, mostra_perc)\n",
    "print(f\"Els numeros aleatoris correctes son: començar desde {inici}, en intervals de {interval}.\")"
   ]
  },
  {
   "cell_type": "code",
   "execution_count": 49,
   "id": "27cffc04",
   "metadata": {},
   "outputs": [
    {
     "data": {
      "text/html": [
       "<div>\n",
       "<style scoped>\n",
       "    .dataframe tbody tr th:only-of-type {\n",
       "        vertical-align: middle;\n",
       "    }\n",
       "\n",
       "    .dataframe tbody tr th {\n",
       "        vertical-align: top;\n",
       "    }\n",
       "\n",
       "    .dataframe thead th {\n",
       "        text-align: right;\n",
       "    }\n",
       "</style>\n",
       "<table border=\"1\" class=\"dataframe\">\n",
       "  <thead>\n",
       "    <tr style=\"text-align: right;\">\n",
       "      <th></th>\n",
       "      <th>player</th>\n",
       "      <th>team</th>\n",
       "      <th>position</th>\n",
       "      <th>salary</th>\n",
       "    </tr>\n",
       "  </thead>\n",
       "  <tbody>\n",
       "    <tr>\n",
       "      <th>112</th>\n",
       "      <td>Ryan Dempster</td>\n",
       "      <td>Chicago Cubs</td>\n",
       "      <td>Pitcher</td>\n",
       "      <td>13500.0</td>\n",
       "    </tr>\n",
       "    <tr>\n",
       "      <th>114</th>\n",
       "      <td>Ted Lilly</td>\n",
       "      <td>Chicago Cubs</td>\n",
       "      <td>Pitcher</td>\n",
       "      <td>13000.0</td>\n",
       "    </tr>\n",
       "    <tr>\n",
       "      <th>116</th>\n",
       "      <td>Xavier Nady</td>\n",
       "      <td>Chicago Cubs</td>\n",
       "      <td>Outfielder</td>\n",
       "      <td>3300.0</td>\n",
       "    </tr>\n",
       "    <tr>\n",
       "      <th>118</th>\n",
       "      <td>Jeff Samardzija</td>\n",
       "      <td>Chicago Cubs</td>\n",
       "      <td>Pitcher</td>\n",
       "      <td>3000.0</td>\n",
       "    </tr>\n",
       "    <tr>\n",
       "      <th>120</th>\n",
       "      <td>Ryan Theriot</td>\n",
       "      <td>Chicago Cubs</td>\n",
       "      <td>Shortstop</td>\n",
       "      <td>2600.0</td>\n",
       "    </tr>\n",
       "    <tr>\n",
       "      <th>...</th>\n",
       "      <td>...</td>\n",
       "      <td>...</td>\n",
       "      <td>...</td>\n",
       "      <td>...</td>\n",
       "    </tr>\n",
       "    <tr>\n",
       "      <th>818</th>\n",
       "      <td>Alberto Gonzalez</td>\n",
       "      <td>Washington Nationals</td>\n",
       "      <td>Shortstop</td>\n",
       "      <td>415.5</td>\n",
       "    </tr>\n",
       "    <tr>\n",
       "      <th>820</th>\n",
       "      <td>Mike Morse</td>\n",
       "      <td>Washington Nationals</td>\n",
       "      <td>First Baseman</td>\n",
       "      <td>410.0</td>\n",
       "    </tr>\n",
       "    <tr>\n",
       "      <th>822</th>\n",
       "      <td>Tyler Clippard</td>\n",
       "      <td>Washington Nationals</td>\n",
       "      <td>Pitcher</td>\n",
       "      <td>401.0</td>\n",
       "    </tr>\n",
       "    <tr>\n",
       "      <th>824</th>\n",
       "      <td>Ian Desmond</td>\n",
       "      <td>Washington Nationals</td>\n",
       "      <td>Shortstop</td>\n",
       "      <td>400.0</td>\n",
       "    </tr>\n",
       "    <tr>\n",
       "      <th>826</th>\n",
       "      <td>Jesse English</td>\n",
       "      <td>Washington Nationals</td>\n",
       "      <td>Pitcher</td>\n",
       "      <td>400.0</td>\n",
       "    </tr>\n",
       "  </tbody>\n",
       "</table>\n",
       "<p>358 rows × 4 columns</p>\n",
       "</div>"
      ],
      "text/plain": [
       "               player                  team       position   salary\n",
       "112     Ryan Dempster          Chicago Cubs        Pitcher  13500.0\n",
       "114         Ted Lilly          Chicago Cubs        Pitcher  13000.0\n",
       "116       Xavier Nady          Chicago Cubs     Outfielder   3300.0\n",
       "118   Jeff Samardzija          Chicago Cubs        Pitcher   3000.0\n",
       "120      Ryan Theriot          Chicago Cubs      Shortstop   2600.0\n",
       "..                ...                   ...            ...      ...\n",
       "818  Alberto Gonzalez  Washington Nationals      Shortstop    415.5\n",
       "820        Mike Morse  Washington Nationals  First Baseman    410.0\n",
       "822    Tyler Clippard  Washington Nationals        Pitcher    401.0\n",
       "824       Ian Desmond  Washington Nationals      Shortstop    400.0\n",
       "826     Jesse English  Washington Nationals        Pitcher    400.0\n",
       "\n",
       "[358 rows x 4 columns]"
      ]
     },
     "execution_count": 49,
     "metadata": {},
     "output_type": "execute_result"
    }
   ],
   "source": [
    "# mostra sistematica\n",
    "mostra_sistematica_df = mlb[inici : total : interval]\n",
    "mostra_sistematica_df"
   ]
  },
  {
   "cell_type": "markdown",
   "id": "157b6777",
   "metadata": {},
   "source": [
    "#### Exercici 2. Generació una mostra estratificada i una mostra utilitzant SMOTE (Synthetic Minority Oversampling Technique)."
   ]
  },
  {
   "cell_type": "markdown",
   "id": "e6ad5f05",
   "metadata": {},
   "source": [
    "#### En aquest cas voldrem saber el salary dels jugadors estratificat\n",
    "#### per tipus de posicio en el camp, per veure si hi ha posicions més gratificades,\n",
    "#### pero per tots els equips representats.\n",
    "\n",
    "Primer hem d'averiguar el percentatge de jugadors que hi ha a cada position per poder agafar la mostra de forma correcta\n",
    "\n"
   ]
  },
  {
   "cell_type": "code",
   "execution_count": 50,
   "id": "c8a95e89",
   "metadata": {},
   "outputs": [
    {
     "data": {
      "text/plain": [
       "Pitcher              410\n",
       "Outfielder           148\n",
       "Catcher               67\n",
       "Shortstop             56\n",
       "Second Baseman        48\n",
       "Third Baseman         46\n",
       "First Baseman         42\n",
       "Designated Hitter      7\n",
       "Infielder              4\n",
       "Name: position, dtype: int64"
      ]
     },
     "execution_count": 50,
     "metadata": {},
     "output_type": "execute_result"
    }
   ],
   "source": [
    "player_types = mlb.position.value_counts()\n",
    "player_types"
   ]
  },
  {
   "cell_type": "code",
   "execution_count": 51,
   "id": "19bd48f0",
   "metadata": {},
   "outputs": [
    {
     "data": {
      "text/plain": [
       "Pitcher              49.516908\n",
       "Outfielder           17.874396\n",
       "Catcher               8.091787\n",
       "Shortstop             6.763285\n",
       "Second Baseman        5.797101\n",
       "Third Baseman         5.555556\n",
       "First Baseman         5.072464\n",
       "Designated Hitter     0.845411\n",
       "Infielder             0.483092\n",
       "Name: position, dtype: float64"
      ]
     },
     "execution_count": 51,
     "metadata": {},
     "output_type": "execute_result"
    }
   ],
   "source": [
    "percent = player_types * 100 / total\n",
    "percent"
   ]
  },
  {
   "cell_type": "code",
   "execution_count": 52,
   "id": "c988c13d",
   "metadata": {},
   "outputs": [
    {
     "data": {
      "text/plain": [
       "100.00000000000001"
      ]
     },
     "execution_count": 52,
     "metadata": {},
     "output_type": "execute_result"
    }
   ],
   "source": [
    "percent.sum()"
   ]
  },
  {
   "cell_type": "markdown",
   "id": "473bc32a",
   "metadata": {},
   "source": [
    "El percentatge de samples per categoria respecte el total de jugadors es:\n",
    "(El sampling total sera del 20% del total del dataset)"
   ]
  },
  {
   "cell_type": "code",
   "execution_count": 53,
   "id": "c3705f34",
   "metadata": {},
   "outputs": [
    {
     "data": {
      "text/plain": [
       "Pitcher              82.0\n",
       "Outfielder           30.0\n",
       "Catcher              13.0\n",
       "Shortstop            11.0\n",
       "Second Baseman       10.0\n",
       "Third Baseman         9.0\n",
       "First Baseman         8.0\n",
       "Designated Hitter     1.0\n",
       "Infielder             1.0\n",
       "Name: position, dtype: float64"
      ]
     },
     "execution_count": 53,
     "metadata": {},
     "output_type": "execute_result"
    }
   ],
   "source": [
    "percent_samples_player_category = round(((total  * 20) / 100) * percent / 100)\n",
    "percent_samples_player_category"
   ]
  },
  {
   "cell_type": "code",
   "execution_count": 54,
   "id": "09dd69ab",
   "metadata": {},
   "outputs": [
    {
     "data": {
      "text/plain": [
       "165.0"
      ]
     },
     "execution_count": 54,
     "metadata": {},
     "output_type": "execute_result"
    }
   ],
   "source": [
    "percent_samples_player_category.sum()"
   ]
  },
  {
   "cell_type": "markdown",
   "id": "73974b16",
   "metadata": {},
   "source": [
    "#### Efectuem el sampling"
   ]
  },
  {
   "cell_type": "code",
   "execution_count": 56,
   "id": "fb122ff7",
   "metadata": {},
   "outputs": [
    {
     "data": {
      "text/plain": [
       "player      166\n",
       "team        166\n",
       "position    166\n",
       "salary      166\n",
       "dtype: int64"
      ]
     },
     "execution_count": 56,
     "metadata": {},
     "output_type": "execute_result"
    }
   ],
   "source": [
    "from sklearn.model_selection import train_test_split\n",
    "Xtrain, Xtest = train_test_split(mlb, test_size = 0.20, stratify = mlb[['position']])\n",
    "Xtest.count()"
   ]
  },
  {
   "cell_type": "code",
   "execution_count": 57,
   "id": "d8b20e10",
   "metadata": {},
   "outputs": [
    {
     "data": {
      "text/html": [
       "<div>\n",
       "<style scoped>\n",
       "    .dataframe tbody tr th:only-of-type {\n",
       "        vertical-align: middle;\n",
       "    }\n",
       "\n",
       "    .dataframe tbody tr th {\n",
       "        vertical-align: top;\n",
       "    }\n",
       "\n",
       "    .dataframe thead th {\n",
       "        text-align: right;\n",
       "    }\n",
       "</style>\n",
       "<table border=\"1\" class=\"dataframe\">\n",
       "  <thead>\n",
       "    <tr style=\"text-align: right;\">\n",
       "      <th></th>\n",
       "      <th>player</th>\n",
       "      <th>team</th>\n",
       "      <th>position</th>\n",
       "      <th>salary</th>\n",
       "    </tr>\n",
       "  </thead>\n",
       "  <tbody>\n",
       "    <tr>\n",
       "      <th>43</th>\n",
       "      <td>Martin Prado</td>\n",
       "      <td>Atlanta Braves</td>\n",
       "      <td>Second Baseman</td>\n",
       "      <td>440.0</td>\n",
       "    </tr>\n",
       "    <tr>\n",
       "      <th>330</th>\n",
       "      <td>Kyle Farnsworth</td>\n",
       "      <td>Kansas City Royals</td>\n",
       "      <td>Pitcher</td>\n",
       "      <td>4500.0</td>\n",
       "    </tr>\n",
       "    <tr>\n",
       "      <th>437</th>\n",
       "      <td>Josh Butler</td>\n",
       "      <td>Milwaukee Brewers</td>\n",
       "      <td>Pitcher</td>\n",
       "      <td>400.0</td>\n",
       "    </tr>\n",
       "    <tr>\n",
       "      <th>617</th>\n",
       "      <td>Clayton Richard</td>\n",
       "      <td>San Diego Padres</td>\n",
       "      <td>Pitcher</td>\n",
       "      <td>423.7</td>\n",
       "    </tr>\n",
       "    <tr>\n",
       "      <th>737</th>\n",
       "      <td>Reid Brignac</td>\n",
       "      <td>Tampa Bay Rays</td>\n",
       "      <td>Shortstop</td>\n",
       "      <td>403.7</td>\n",
       "    </tr>\n",
       "    <tr>\n",
       "      <th>...</th>\n",
       "      <td>...</td>\n",
       "      <td>...</td>\n",
       "      <td>...</td>\n",
       "      <td>...</td>\n",
       "    </tr>\n",
       "    <tr>\n",
       "      <th>1</th>\n",
       "      <td>Danny Haren</td>\n",
       "      <td>Arizona Diamondbacks</td>\n",
       "      <td>Pitcher</td>\n",
       "      <td>8250.0</td>\n",
       "    </tr>\n",
       "    <tr>\n",
       "      <th>11</th>\n",
       "      <td>Bobby Howry</td>\n",
       "      <td>Arizona Diamondbacks</td>\n",
       "      <td>Pitcher</td>\n",
       "      <td>2000.0</td>\n",
       "    </tr>\n",
       "    <tr>\n",
       "      <th>721</th>\n",
       "      <td>Kelly Shoppach</td>\n",
       "      <td>Tampa Bay Rays</td>\n",
       "      <td>Catcher</td>\n",
       "      <td>2250.0</td>\n",
       "    </tr>\n",
       "    <tr>\n",
       "      <th>560</th>\n",
       "      <td>Shane Victorino</td>\n",
       "      <td>Philadelphia Phillies</td>\n",
       "      <td>Outfielder</td>\n",
       "      <td>5000.0</td>\n",
       "    </tr>\n",
       "    <tr>\n",
       "      <th>52</th>\n",
       "      <td>Jason Heyward</td>\n",
       "      <td>Atlanta Braves</td>\n",
       "      <td>Outfielder</td>\n",
       "      <td>400.0</td>\n",
       "    </tr>\n",
       "  </tbody>\n",
       "</table>\n",
       "<p>166 rows × 4 columns</p>\n",
       "</div>"
      ],
      "text/plain": [
       "              player                   team        position  salary\n",
       "43      Martin Prado         Atlanta Braves  Second Baseman   440.0\n",
       "330  Kyle Farnsworth     Kansas City Royals         Pitcher  4500.0\n",
       "437      Josh Butler      Milwaukee Brewers         Pitcher   400.0\n",
       "617  Clayton Richard       San Diego Padres         Pitcher   423.7\n",
       "737     Reid Brignac         Tampa Bay Rays       Shortstop   403.7\n",
       "..               ...                    ...             ...     ...\n",
       "1        Danny Haren   Arizona Diamondbacks         Pitcher  8250.0\n",
       "11       Bobby Howry   Arizona Diamondbacks         Pitcher  2000.0\n",
       "721   Kelly Shoppach         Tampa Bay Rays         Catcher  2250.0\n",
       "560  Shane Victorino  Philadelphia Phillies      Outfielder  5000.0\n",
       "52     Jason Heyward         Atlanta Braves      Outfielder   400.0\n",
       "\n",
       "[166 rows x 4 columns]"
      ]
     },
     "execution_count": 57,
     "metadata": {},
     "output_type": "execute_result"
    }
   ],
   "source": [
    "Xtest"
   ]
  },
  {
   "cell_type": "markdown",
   "id": "23dcae57",
   "metadata": {},
   "source": [
    "#### Exercici 2B. Mostra utilitzant SMOTE (Synthetic Minority Oversampling Technique)."
   ]
  },
  {
   "cell_type": "code",
   "execution_count": 59,
   "id": "e9aae2a1",
   "metadata": {},
   "outputs": [],
   "source": [
    "import imblearn\n",
    "from imblearn.over_sampling import SMOTE"
   ]
  },
  {
   "cell_type": "code",
   "execution_count": 60,
   "id": "9f325d23",
   "metadata": {},
   "outputs": [],
   "source": [
    "oversample = SMOTE(sampling_strategy='not majority', k_neighbors=3, random_state=6858)"
   ]
  },
  {
   "cell_type": "code",
   "execution_count": 61,
   "id": "7c006041",
   "metadata": {},
   "outputs": [],
   "source": [
    "player_over, position_over = oversample.fit_resample(mlb[['salary']], mlb[['position']])"
   ]
  },
  {
   "cell_type": "code",
   "execution_count": 68,
   "id": "7f02a2ca",
   "metadata": {},
   "outputs": [
    {
     "data": {
      "text/plain": [
       "position         \n",
       "Catcher              410\n",
       "Designated Hitter    410\n",
       "First Baseman        410\n",
       "Infielder            410\n",
       "Outfielder           410\n",
       "Pitcher              410\n",
       "Second Baseman       410\n",
       "Shortstop            410\n",
       "Third Baseman        410\n",
       "dtype: int64"
      ]
     },
     "execution_count": 68,
     "metadata": {},
     "output_type": "execute_result"
    }
   ],
   "source": [
    "position_over.value_counts()"
   ]
  },
  {
   "cell_type": "code",
   "execution_count": 69,
   "id": "01ae331c",
   "metadata": {},
   "outputs": [],
   "source": [
    "player_over['position'] = position_over"
   ]
  },
  {
   "cell_type": "code",
   "execution_count": 70,
   "id": "9aac3af9",
   "metadata": {},
   "outputs": [],
   "source": [
    "mitja_real = round(mlb.salary.mean(),3)\n",
    "stratified_SMOTE=(player_over.groupby('position').apply(lambda x: x.sample(n=100, random_state=6858)).reset_index(level=0, drop=True))"
   ]
  },
  {
   "cell_type": "code",
   "execution_count": 71,
   "id": "e4d50874",
   "metadata": {},
   "outputs": [
    {
     "data": {
      "text/plain": [
       "0.8386615543679513"
      ]
     },
     "execution_count": 71,
     "metadata": {},
     "output_type": "execute_result"
    }
   ],
   "source": [
    "abs(stratified_SMOTE.salary.mean()-mitja_real) / stratified_SMOTE.salary.mean()*100"
   ]
  },
  {
   "cell_type": "code",
   "execution_count": 72,
   "id": "e82f743b",
   "metadata": {},
   "outputs": [
    {
     "data": {
      "text/plain": [
       "Outfielder           0.111111\n",
       "Pitcher              0.111111\n",
       "Designated Hitter    0.111111\n",
       "Catcher              0.111111\n",
       "Infielder            0.111111\n",
       "Third Baseman        0.111111\n",
       "Shortstop            0.111111\n",
       "Second Baseman       0.111111\n",
       "First Baseman        0.111111\n",
       "Name: position, dtype: float64"
      ]
     },
     "execution_count": 72,
     "metadata": {},
     "output_type": "execute_result"
    }
   ],
   "source": [
    "stratified_SMOTE.position.value_counts(normalize=True)"
   ]
  },
  {
   "cell_type": "code",
   "execution_count": 67,
   "id": "05293f33",
   "metadata": {},
   "outputs": [
    {
     "data": {
      "text/html": [
       "<div>\n",
       "<style scoped>\n",
       "    .dataframe tbody tr th:only-of-type {\n",
       "        vertical-align: middle;\n",
       "    }\n",
       "\n",
       "    .dataframe tbody tr th {\n",
       "        vertical-align: top;\n",
       "    }\n",
       "\n",
       "    .dataframe thead th {\n",
       "        text-align: right;\n",
       "    }\n",
       "</style>\n",
       "<table border=\"1\" class=\"dataframe\">\n",
       "  <thead>\n",
       "    <tr style=\"text-align: right;\">\n",
       "      <th></th>\n",
       "      <th>salary</th>\n",
       "      <th>position</th>\n",
       "    </tr>\n",
       "  </thead>\n",
       "  <tbody>\n",
       "    <tr>\n",
       "      <th>387</th>\n",
       "      <td>5050.000000</td>\n",
       "      <td>Catcher</td>\n",
       "    </tr>\n",
       "    <tr>\n",
       "      <th>1131</th>\n",
       "      <td>2060.721728</td>\n",
       "      <td>Catcher</td>\n",
       "    </tr>\n",
       "    <tr>\n",
       "      <th>885</th>\n",
       "      <td>400.128833</td>\n",
       "      <td>Catcher</td>\n",
       "    </tr>\n",
       "    <tr>\n",
       "      <th>905</th>\n",
       "      <td>455.396385</td>\n",
       "      <td>Catcher</td>\n",
       "    </tr>\n",
       "    <tr>\n",
       "      <th>1084</th>\n",
       "      <td>1397.322518</td>\n",
       "      <td>Catcher</td>\n",
       "    </tr>\n",
       "    <tr>\n",
       "      <th>...</th>\n",
       "      <td>...</td>\n",
       "      <td>...</td>\n",
       "    </tr>\n",
       "    <tr>\n",
       "      <th>3459</th>\n",
       "      <td>5080.798208</td>\n",
       "      <td>Third Baseman</td>\n",
       "    </tr>\n",
       "    <tr>\n",
       "      <th>3657</th>\n",
       "      <td>10173.018667</td>\n",
       "      <td>Third Baseman</td>\n",
       "    </tr>\n",
       "    <tr>\n",
       "      <th>3432</th>\n",
       "      <td>6314.134796</td>\n",
       "      <td>Third Baseman</td>\n",
       "    </tr>\n",
       "    <tr>\n",
       "      <th>3517</th>\n",
       "      <td>895.809512</td>\n",
       "      <td>Third Baseman</td>\n",
       "    </tr>\n",
       "    <tr>\n",
       "      <th>3336</th>\n",
       "      <td>6666.465864</td>\n",
       "      <td>Third Baseman</td>\n",
       "    </tr>\n",
       "  </tbody>\n",
       "</table>\n",
       "<p>900 rows × 2 columns</p>\n",
       "</div>"
      ],
      "text/plain": [
       "            salary       position\n",
       "387    5050.000000        Catcher\n",
       "1131   2060.721728        Catcher\n",
       "885     400.128833        Catcher\n",
       "905     455.396385        Catcher\n",
       "1084   1397.322518        Catcher\n",
       "...            ...            ...\n",
       "3459   5080.798208  Third Baseman\n",
       "3657  10173.018667  Third Baseman\n",
       "3432   6314.134796  Third Baseman\n",
       "3517    895.809512  Third Baseman\n",
       "3336   6666.465864  Third Baseman\n",
       "\n",
       "[900 rows x 2 columns]"
      ]
     },
     "execution_count": 67,
     "metadata": {},
     "output_type": "execute_result"
    }
   ],
   "source": [
    "stratified_SMOTE"
   ]
  },
  {
   "cell_type": "markdown",
   "id": "5faec1b9",
   "metadata": {},
   "source": [
    "#### Exercici 3. Mostra utilitzant el mètodo Reservoir Sampling"
   ]
  },
  {
   "cell_type": "markdown",
   "id": "5df5e41f",
   "metadata": {},
   "source": [
    "Sobre el paper, el Reservoir Sampling es adient per fer samplings sobre un caudal infinit de mostres. En aquest cas el caudal es finit i el numero de samplings a realitzar es defineix d'una manera arbitraria. Com 'no sabem' quants jugadors vidran per el caudal, es defineix com a numero de samplings a fer, el total de jugadors que componen un equip estandard de baseball de la lliga MLB : 28 com a maxim.\n",
    "https://make-shots.com/players-baseball-team/"
   ]
  },
  {
   "cell_type": "code",
   "execution_count": 34,
   "id": "cbcdfd08",
   "metadata": {},
   "outputs": [],
   "source": [
    "import random\n",
    "\n",
    "stream = mlb.index\n",
    "# Doing Reservoir Sampling from the stream\n",
    "k=28\n",
    "reservoir = []\n",
    "for i, element in enumerate(stream):\n",
    "    if i+1<= k:\n",
    "        reservoir.append(element)\n",
    "    else:\n",
    "        probability = k/(i+1)\n",
    "        if random.random() < probability:\n",
    "            # Select item in stream and remove one of the k items already selected\n",
    "             reservoir[random.choice(range(0,k))] = element\n"
   ]
  },
  {
   "cell_type": "code",
   "execution_count": 35,
   "id": "79e6a609",
   "metadata": {},
   "outputs": [
    {
     "data": {
      "text/plain": [
       "[630,\n",
       " 662,\n",
       " 30,\n",
       " 242,\n",
       " 585,\n",
       " 568,\n",
       " 735,\n",
       " 254,\n",
       " 382,\n",
       " 528,\n",
       " 346,\n",
       " 207,\n",
       " 394,\n",
       " 467,\n",
       " 449,\n",
       " 339,\n",
       " 323,\n",
       " 728,\n",
       " 587,\n",
       " 235,\n",
       " 299,\n",
       " 424,\n",
       " 777,\n",
       " 45,\n",
       " 530,\n",
       " 257,\n",
       " 820,\n",
       " 821]"
      ]
     },
     "execution_count": 35,
     "metadata": {},
     "output_type": "execute_result"
    }
   ],
   "source": [
    "reservoir"
   ]
  },
  {
   "cell_type": "code",
   "execution_count": 39,
   "id": "a04cd847",
   "metadata": {},
   "outputs": [
    {
     "data": {
      "text/html": [
       "<div>\n",
       "<style scoped>\n",
       "    .dataframe tbody tr th:only-of-type {\n",
       "        vertical-align: middle;\n",
       "    }\n",
       "\n",
       "    .dataframe tbody tr th {\n",
       "        vertical-align: top;\n",
       "    }\n",
       "\n",
       "    .dataframe thead th {\n",
       "        text-align: right;\n",
       "    }\n",
       "</style>\n",
       "<table border=\"1\" class=\"dataframe\">\n",
       "  <thead>\n",
       "    <tr style=\"text-align: right;\">\n",
       "      <th></th>\n",
       "      <th>player</th>\n",
       "      <th>team</th>\n",
       "      <th>position</th>\n",
       "      <th>salary</th>\n",
       "    </tr>\n",
       "  </thead>\n",
       "  <tbody>\n",
       "    <tr>\n",
       "      <th>30</th>\n",
       "      <td>Billy Wagner</td>\n",
       "      <td>Atlanta Braves</td>\n",
       "      <td>Pitcher</td>\n",
       "      <td>6750.000</td>\n",
       "    </tr>\n",
       "    <tr>\n",
       "      <th>45</th>\n",
       "      <td>Tommy Hanson</td>\n",
       "      <td>Atlanta Braves</td>\n",
       "      <td>Pitcher</td>\n",
       "      <td>435.000</td>\n",
       "    </tr>\n",
       "    <tr>\n",
       "      <th>207</th>\n",
       "      <td>Luis Valbuena</td>\n",
       "      <td>Cleveland Indians</td>\n",
       "      <td>Infielder</td>\n",
       "      <td>414.700</td>\n",
       "    </tr>\n",
       "    <tr>\n",
       "      <th>235</th>\n",
       "      <td>Randy Flores</td>\n",
       "      <td>Colorado Rockies</td>\n",
       "      <td>Pitcher</td>\n",
       "      <td>650.000</td>\n",
       "    </tr>\n",
       "    <tr>\n",
       "      <th>242</th>\n",
       "      <td>Greg Reynolds</td>\n",
       "      <td>Colorado Rockies</td>\n",
       "      <td>Pitcher</td>\n",
       "      <td>403.000</td>\n",
       "    </tr>\n",
       "    <tr>\n",
       "      <th>254</th>\n",
       "      <td>Bobby Seay</td>\n",
       "      <td>Detroit Tigers</td>\n",
       "      <td>Pitcher</td>\n",
       "      <td>2475.000</td>\n",
       "    </tr>\n",
       "    <tr>\n",
       "      <th>257</th>\n",
       "      <td>Max Scherzer</td>\n",
       "      <td>Detroit Tigers</td>\n",
       "      <td>Pitcher</td>\n",
       "      <td>1500.000</td>\n",
       "    </tr>\n",
       "    <tr>\n",
       "      <th>299</th>\n",
       "      <td>Roy Oswalt</td>\n",
       "      <td>Houston Astros</td>\n",
       "      <td>Pitcher</td>\n",
       "      <td>15000.000</td>\n",
       "    </tr>\n",
       "    <tr>\n",
       "      <th>323</th>\n",
       "      <td>Yorman Bazardo</td>\n",
       "      <td>Houston Astros</td>\n",
       "      <td>Pitcher</td>\n",
       "      <td>400.000</td>\n",
       "    </tr>\n",
       "    <tr>\n",
       "      <th>339</th>\n",
       "      <td>Willie Bloomquist</td>\n",
       "      <td>Kansas City Royals</td>\n",
       "      <td>Second Baseman</td>\n",
       "      <td>1700.000</td>\n",
       "    </tr>\n",
       "    <tr>\n",
       "      <th>346</th>\n",
       "      <td>Alberto Callaspo</td>\n",
       "      <td>Kansas City Royals</td>\n",
       "      <td>Second Baseman</td>\n",
       "      <td>460.000</td>\n",
       "    </tr>\n",
       "    <tr>\n",
       "      <th>382</th>\n",
       "      <td>Manny Ramirez</td>\n",
       "      <td>Los Angeles Dodgers</td>\n",
       "      <td>Outfielder</td>\n",
       "      <td>18695.006</td>\n",
       "    </tr>\n",
       "    <tr>\n",
       "      <th>394</th>\n",
       "      <td>Jamey Carroll</td>\n",
       "      <td>Los Angeles Dodgers</td>\n",
       "      <td>Second Baseman</td>\n",
       "      <td>1535.677</td>\n",
       "    </tr>\n",
       "    <tr>\n",
       "      <th>424</th>\n",
       "      <td>Carlos Gomez</td>\n",
       "      <td>Milwaukee Brewers</td>\n",
       "      <td>Outfielder</td>\n",
       "      <td>1100.000</td>\n",
       "    </tr>\n",
       "    <tr>\n",
       "      <th>449</th>\n",
       "      <td>Jon Rauch</td>\n",
       "      <td>Minnesota Twins</td>\n",
       "      <td>Pitcher</td>\n",
       "      <td>2900.000</td>\n",
       "    </tr>\n",
       "    <tr>\n",
       "      <th>467</th>\n",
       "      <td>Carlos Beltran</td>\n",
       "      <td>New York Mets</td>\n",
       "      <td>Outfielder</td>\n",
       "      <td>19401.569</td>\n",
       "    </tr>\n",
       "    <tr>\n",
       "      <th>528</th>\n",
       "      <td>Chad Gaudin</td>\n",
       "      <td>Oakland Athletics</td>\n",
       "      <td>Pitcher</td>\n",
       "      <td>700.000</td>\n",
       "    </tr>\n",
       "    <tr>\n",
       "      <th>530</th>\n",
       "      <td>Andrew Bailey</td>\n",
       "      <td>Oakland Athletics</td>\n",
       "      <td>Pitcher</td>\n",
       "      <td>435.000</td>\n",
       "    </tr>\n",
       "    <tr>\n",
       "      <th>568</th>\n",
       "      <td>Greg Dobbs</td>\n",
       "      <td>Philadelphia Phillies</td>\n",
       "      <td>Third Baseman</td>\n",
       "      <td>1350.000</td>\n",
       "    </tr>\n",
       "    <tr>\n",
       "      <th>585</th>\n",
       "      <td>Ronny Cedeno</td>\n",
       "      <td>Pittsburgh Pirates</td>\n",
       "      <td>Second Baseman</td>\n",
       "      <td>1125.000</td>\n",
       "    </tr>\n",
       "    <tr>\n",
       "      <th>587</th>\n",
       "      <td>D.J. Carrasco</td>\n",
       "      <td>Pittsburgh Pirates</td>\n",
       "      <td>Pitcher</td>\n",
       "      <td>950.000</td>\n",
       "    </tr>\n",
       "    <tr>\n",
       "      <th>630</th>\n",
       "      <td>Cesar Ramos</td>\n",
       "      <td>San Diego Padres</td>\n",
       "      <td>Pitcher</td>\n",
       "      <td>401.300</td>\n",
       "    </tr>\n",
       "    <tr>\n",
       "      <th>662</th>\n",
       "      <td>Chone Figgins</td>\n",
       "      <td>Seattle Mariners</td>\n",
       "      <td>Second Baseman</td>\n",
       "      <td>8500.000</td>\n",
       "    </tr>\n",
       "    <tr>\n",
       "      <th>728</th>\n",
       "      <td>Gabe Kapler</td>\n",
       "      <td>Tampa Bay Rays</td>\n",
       "      <td>Outfielder</td>\n",
       "      <td>1054.000</td>\n",
       "    </tr>\n",
       "    <tr>\n",
       "      <th>735</th>\n",
       "      <td>Sean Rodriguez</td>\n",
       "      <td>Tampa Bay Rays</td>\n",
       "      <td>Infielder</td>\n",
       "      <td>405.500</td>\n",
       "    </tr>\n",
       "    <tr>\n",
       "      <th>777</th>\n",
       "      <td>Kevin Gregg</td>\n",
       "      <td>Toronto Blue Jays</td>\n",
       "      <td>Pitcher</td>\n",
       "      <td>2000.000</td>\n",
       "    </tr>\n",
       "    <tr>\n",
       "      <th>820</th>\n",
       "      <td>Mike Morse</td>\n",
       "      <td>Washington Nationals</td>\n",
       "      <td>First Baseman</td>\n",
       "      <td>410.000</td>\n",
       "    </tr>\n",
       "    <tr>\n",
       "      <th>821</th>\n",
       "      <td>Craig Stammen</td>\n",
       "      <td>Washington Nationals</td>\n",
       "      <td>Pitcher</td>\n",
       "      <td>402.000</td>\n",
       "    </tr>\n",
       "  </tbody>\n",
       "</table>\n",
       "</div>"
      ],
      "text/plain": [
       "                player                   team        position     salary\n",
       "30        Billy Wagner         Atlanta Braves         Pitcher   6750.000\n",
       "45        Tommy Hanson         Atlanta Braves         Pitcher    435.000\n",
       "207      Luis Valbuena      Cleveland Indians       Infielder    414.700\n",
       "235       Randy Flores       Colorado Rockies         Pitcher    650.000\n",
       "242      Greg Reynolds       Colorado Rockies         Pitcher    403.000\n",
       "254         Bobby Seay         Detroit Tigers         Pitcher   2475.000\n",
       "257       Max Scherzer         Detroit Tigers         Pitcher   1500.000\n",
       "299         Roy Oswalt         Houston Astros         Pitcher  15000.000\n",
       "323     Yorman Bazardo         Houston Astros         Pitcher    400.000\n",
       "339  Willie Bloomquist     Kansas City Royals  Second Baseman   1700.000\n",
       "346   Alberto Callaspo     Kansas City Royals  Second Baseman    460.000\n",
       "382      Manny Ramirez    Los Angeles Dodgers      Outfielder  18695.006\n",
       "394      Jamey Carroll    Los Angeles Dodgers  Second Baseman   1535.677\n",
       "424       Carlos Gomez      Milwaukee Brewers      Outfielder   1100.000\n",
       "449          Jon Rauch        Minnesota Twins         Pitcher   2900.000\n",
       "467     Carlos Beltran          New York Mets      Outfielder  19401.569\n",
       "528        Chad Gaudin      Oakland Athletics         Pitcher    700.000\n",
       "530      Andrew Bailey      Oakland Athletics         Pitcher    435.000\n",
       "568         Greg Dobbs  Philadelphia Phillies   Third Baseman   1350.000\n",
       "585       Ronny Cedeno     Pittsburgh Pirates  Second Baseman   1125.000\n",
       "587      D.J. Carrasco     Pittsburgh Pirates         Pitcher    950.000\n",
       "630        Cesar Ramos       San Diego Padres         Pitcher    401.300\n",
       "662      Chone Figgins       Seattle Mariners  Second Baseman   8500.000\n",
       "728        Gabe Kapler         Tampa Bay Rays      Outfielder   1054.000\n",
       "735     Sean Rodriguez         Tampa Bay Rays       Infielder    405.500\n",
       "777        Kevin Gregg      Toronto Blue Jays         Pitcher   2000.000\n",
       "820         Mike Morse   Washington Nationals   First Baseman    410.000\n",
       "821      Craig Stammen   Washington Nationals         Pitcher    402.000"
      ]
     },
     "execution_count": 39,
     "metadata": {},
     "output_type": "execute_result"
    }
   ],
   "source": [
    "reservoir_mlb_sampling = mlb[mlb.index.isin(reservoir)]\n",
    "reservoir_mlb_sampling"
   ]
  }
 ],
 "metadata": {
  "kernelspec": {
   "display_name": "Python 3",
   "language": "python",
   "name": "python3"
  },
  "language_info": {
   "codemirror_mode": {
    "name": "ipython",
    "version": 3
   },
   "file_extension": ".py",
   "mimetype": "text/x-python",
   "name": "python",
   "nbconvert_exporter": "python",
   "pygments_lexer": "ipython3",
   "version": "3.8.8"
  }
 },
 "nbformat": 4,
 "nbformat_minor": 5
}
